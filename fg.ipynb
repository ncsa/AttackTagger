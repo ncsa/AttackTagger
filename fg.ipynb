{
 "metadata": {
  "name": "",
  "signature": "sha256:902086076be279544d9bf95a50a168e44e25f7066237b1f9aeeffa50e339c019"
 },
 "nbformat": 3,
 "nbformat_minor": 0,
 "worksheets": [
  {
   "cells": [
    {
     "cell_type": "code",
     "collapsed": false,
     "input": [
      "import tests.test_nb as tnb\n",
      "import cPickle as pickle\n",
      "\n",
      "[X, Y] = pickle.load(open(\"result/test_compare_other_method_.pickle\", 'r'))\n",
      "tnb.eval_result(X, Y)"
     ],
     "language": "python",
     "metadata": {},
     "outputs": [
      {
       "output_type": "stream",
       "stream": "stdout",
       "text": [
        "SVC(C=1, cache_size=200, class_weight=None, coef0=0.0, degree=3, gamma=0.0,\n",
        "  kernel=linear, max_iter=-1, probability=False, random_state=None,\n",
        "  shrinking=True, tol=0.001, verbose=False) [[ 0  0]\n",
        " [30  2]]\n",
        "GaussianNB() [[ 0  0]\n",
        " [ 9 23]]\n",
        "DecisionTreeClassifier(compute_importances=None, criterion=gini,\n",
        "            max_depth=None, max_features=None, min_density=None,\n",
        "            min_samples_leaf=1, min_samples_split=2, random_state=None,\n",
        "            splitter=best) [[ 0  0]\n",
        " [17 15]]\n",
        "DummyClassifier(random_state=None, strategy=most_frequent) [[ 0  0]\n",
        " [32  0]]\n"
       ]
      }
     ],
     "prompt_number": 142
    },
    {
     "cell_type": "code",
     "collapsed": false,
     "input": [
      "import pandas as pd\n",
      "import matplotlib.pyplot as plt\n",
      "from collections import defaultdict\n",
      "\n",
      "df = pd.read_pickle(\"result/test_compare_other_method.pickle\")"
     ],
     "language": "python",
     "metadata": {},
     "outputs": [
      {
       "ename": "IndexError",
       "evalue": "tuple index out of range",
       "output_type": "pyerr",
       "traceback": [
        "\u001b[1;31m---------------------------------------------------------------------------\u001b[0m\n\u001b[1;31mIndexError\u001b[0m                                Traceback (most recent call last)",
        "\u001b[1;32m<ipython-input-1-70eb9306c9cc>\u001b[0m in \u001b[0;36m<module>\u001b[1;34m()\u001b[0m\n\u001b[0;32m      3\u001b[0m \u001b[1;32mfrom\u001b[0m \u001b[0mcollections\u001b[0m \u001b[1;32mimport\u001b[0m \u001b[0mdefaultdict\u001b[0m\u001b[1;33m\u001b[0m\u001b[0m\n\u001b[0;32m      4\u001b[0m \u001b[1;33m\u001b[0m\u001b[0m\n\u001b[1;32m----> 5\u001b[1;33m \u001b[0mdf\u001b[0m \u001b[1;33m=\u001b[0m \u001b[0mpd\u001b[0m\u001b[1;33m.\u001b[0m\u001b[0mread_pickle\u001b[0m\u001b[1;33m(\u001b[0m\u001b[1;34m\"result/test_compare_other_method.pickle\"\u001b[0m\u001b[1;33m)\u001b[0m\u001b[1;33m\u001b[0m\u001b[0m\n\u001b[0m",
        "\u001b[1;32m/usr/local/lib/python2.7/dist-packages/pandas/io/pickle.pyc\u001b[0m in \u001b[0;36mread_pickle\u001b[1;34m(path)\u001b[0m\n\u001b[0;32m     47\u001b[0m \u001b[1;33m\u001b[0m\u001b[0m\n\u001b[0;32m     48\u001b[0m     \u001b[1;32mtry\u001b[0m\u001b[1;33m:\u001b[0m\u001b[1;33m\u001b[0m\u001b[0m\n\u001b[1;32m---> 49\u001b[1;33m         \u001b[1;32mreturn\u001b[0m \u001b[0mtry_read\u001b[0m\u001b[1;33m(\u001b[0m\u001b[0mpath\u001b[0m\u001b[1;33m)\u001b[0m\u001b[1;33m\u001b[0m\u001b[0m\n\u001b[0m\u001b[0;32m     50\u001b[0m     \u001b[1;32mexcept\u001b[0m\u001b[1;33m:\u001b[0m\u001b[1;33m\u001b[0m\u001b[0m\n\u001b[0;32m     51\u001b[0m         \u001b[1;32mif\u001b[0m \u001b[0mPY3\u001b[0m\u001b[1;33m:\u001b[0m\u001b[1;33m\u001b[0m\u001b[0m\n",
        "\u001b[1;32m/usr/local/lib/python2.7/dist-packages/pandas/io/pickle.pyc\u001b[0m in \u001b[0;36mtry_read\u001b[1;34m(path, encoding)\u001b[0m\n\u001b[0;32m     44\u001b[0m         \u001b[1;32mexcept\u001b[0m\u001b[1;33m:\u001b[0m\u001b[1;33m\u001b[0m\u001b[0m\n\u001b[0;32m     45\u001b[0m             \u001b[1;32mwith\u001b[0m \u001b[0mopen\u001b[0m\u001b[1;33m(\u001b[0m\u001b[0mpath\u001b[0m\u001b[1;33m,\u001b[0m \u001b[1;34m'rb'\u001b[0m\u001b[1;33m)\u001b[0m \u001b[1;32mas\u001b[0m \u001b[0mfh\u001b[0m\u001b[1;33m:\u001b[0m\u001b[1;33m\u001b[0m\u001b[0m\n\u001b[1;32m---> 46\u001b[1;33m                 \u001b[1;32mreturn\u001b[0m \u001b[0mpc\u001b[0m\u001b[1;33m.\u001b[0m\u001b[0mload\u001b[0m\u001b[1;33m(\u001b[0m\u001b[0mfh\u001b[0m\u001b[1;33m,\u001b[0m \u001b[0mencoding\u001b[0m\u001b[1;33m=\u001b[0m\u001b[0mencoding\u001b[0m\u001b[1;33m,\u001b[0m \u001b[0mcompat\u001b[0m\u001b[1;33m=\u001b[0m\u001b[0mTrue\u001b[0m\u001b[1;33m)\u001b[0m\u001b[1;33m\u001b[0m\u001b[0m\n\u001b[0m\u001b[0;32m     47\u001b[0m \u001b[1;33m\u001b[0m\u001b[0m\n\u001b[0;32m     48\u001b[0m     \u001b[1;32mtry\u001b[0m\u001b[1;33m:\u001b[0m\u001b[1;33m\u001b[0m\u001b[0m\n",
        "\u001b[1;32m/usr/local/lib/python2.7/dist-packages/pandas/compat/pickle_compat.pyc\u001b[0m in \u001b[0;36mload\u001b[1;34m(fh, encoding, compat, is_verbose)\u001b[0m\n\u001b[0;32m     87\u001b[0m         \u001b[0mup\u001b[0m\u001b[1;33m.\u001b[0m\u001b[0mis_verbose\u001b[0m \u001b[1;33m=\u001b[0m \u001b[0mis_verbose\u001b[0m\u001b[1;33m\u001b[0m\u001b[0m\n\u001b[0;32m     88\u001b[0m \u001b[1;33m\u001b[0m\u001b[0m\n\u001b[1;32m---> 89\u001b[1;33m         \u001b[1;32mreturn\u001b[0m \u001b[0mup\u001b[0m\u001b[1;33m.\u001b[0m\u001b[0mload\u001b[0m\u001b[1;33m(\u001b[0m\u001b[1;33m)\u001b[0m\u001b[1;33m\u001b[0m\u001b[0m\n\u001b[0m\u001b[0;32m     90\u001b[0m     \u001b[1;32mexcept\u001b[0m\u001b[1;33m:\u001b[0m\u001b[1;33m\u001b[0m\u001b[0m\n\u001b[0;32m     91\u001b[0m         \u001b[1;32mraise\u001b[0m\u001b[1;33m\u001b[0m\u001b[0m\n",
        "\u001b[1;32m/usr/lib/python2.7/pickle.pyc\u001b[0m in \u001b[0;36mload\u001b[1;34m(self)\u001b[0m\n\u001b[0;32m    856\u001b[0m             \u001b[1;32mwhile\u001b[0m \u001b[1;36m1\u001b[0m\u001b[1;33m:\u001b[0m\u001b[1;33m\u001b[0m\u001b[0m\n\u001b[0;32m    857\u001b[0m                 \u001b[0mkey\u001b[0m \u001b[1;33m=\u001b[0m \u001b[0mread\u001b[0m\u001b[1;33m(\u001b[0m\u001b[1;36m1\u001b[0m\u001b[1;33m)\u001b[0m\u001b[1;33m\u001b[0m\u001b[0m\n\u001b[1;32m--> 858\u001b[1;33m                 \u001b[0mdispatch\u001b[0m\u001b[1;33m[\u001b[0m\u001b[0mkey\u001b[0m\u001b[1;33m]\u001b[0m\u001b[1;33m(\u001b[0m\u001b[0mself\u001b[0m\u001b[1;33m)\u001b[0m\u001b[1;33m\u001b[0m\u001b[0m\n\u001b[0m\u001b[0;32m    859\u001b[0m         \u001b[1;32mexcept\u001b[0m \u001b[0m_Stop\u001b[0m\u001b[1;33m,\u001b[0m \u001b[0mstopinst\u001b[0m\u001b[1;33m:\u001b[0m\u001b[1;33m\u001b[0m\u001b[0m\n\u001b[0;32m    860\u001b[0m             \u001b[1;32mreturn\u001b[0m \u001b[0mstopinst\u001b[0m\u001b[1;33m.\u001b[0m\u001b[0mvalue\u001b[0m\u001b[1;33m\u001b[0m\u001b[0m\n",
        "\u001b[1;32m/usr/local/lib/python2.7/dist-packages/pandas/compat/pickle_compat.pyc\u001b[0m in \u001b[0;36mload_reduce\u001b[1;34m(self)\u001b[0m\n\u001b[0;32m     16\u001b[0m     \u001b[0margs\u001b[0m \u001b[1;33m=\u001b[0m \u001b[0mstack\u001b[0m\u001b[1;33m.\u001b[0m\u001b[0mpop\u001b[0m\u001b[1;33m(\u001b[0m\u001b[1;33m)\u001b[0m\u001b[1;33m\u001b[0m\u001b[0m\n\u001b[0;32m     17\u001b[0m     \u001b[0mfunc\u001b[0m \u001b[1;33m=\u001b[0m \u001b[0mstack\u001b[0m\u001b[1;33m[\u001b[0m\u001b[1;33m-\u001b[0m\u001b[1;36m1\u001b[0m\u001b[1;33m]\u001b[0m\u001b[1;33m\u001b[0m\u001b[0m\n\u001b[1;32m---> 18\u001b[1;33m     \u001b[1;32mif\u001b[0m \u001b[0mtype\u001b[0m\u001b[1;33m(\u001b[0m\u001b[0margs\u001b[0m\u001b[1;33m[\u001b[0m\u001b[1;36m0\u001b[0m\u001b[1;33m]\u001b[0m\u001b[1;33m)\u001b[0m \u001b[1;32mis\u001b[0m \u001b[0mtype\u001b[0m\u001b[1;33m:\u001b[0m\u001b[1;33m\u001b[0m\u001b[0m\n\u001b[0m\u001b[0;32m     19\u001b[0m         \u001b[0mn\u001b[0m \u001b[1;33m=\u001b[0m \u001b[0margs\u001b[0m\u001b[1;33m[\u001b[0m\u001b[1;36m0\u001b[0m\u001b[1;33m]\u001b[0m\u001b[1;33m.\u001b[0m\u001b[0m__name__\u001b[0m\u001b[1;33m\u001b[0m\u001b[0m\n\u001b[0;32m     20\u001b[0m         \u001b[1;32mif\u001b[0m \u001b[0mn\u001b[0m \u001b[1;33m==\u001b[0m \u001b[0mu\u001b[0m\u001b[1;33m(\u001b[0m\u001b[1;34m'DeprecatedSeries'\u001b[0m\u001b[1;33m)\u001b[0m \u001b[1;32mor\u001b[0m \u001b[0mn\u001b[0m \u001b[1;33m==\u001b[0m \u001b[0mu\u001b[0m\u001b[1;33m(\u001b[0m\u001b[1;34m'DeprecatedTimeSeries'\u001b[0m\u001b[1;33m)\u001b[0m\u001b[1;33m:\u001b[0m\u001b[1;33m\u001b[0m\u001b[0m\n",
        "\u001b[1;31mIndexError\u001b[0m: tuple index out of range"
       ]
      }
     ],
     "prompt_number": 1
    },
    {
     "cell_type": "code",
     "collapsed": false,
     "input": [
      "import pandas as pd\n",
      "import matplotlib.pyplot as plt\n",
      "from collections import defaultdict\n",
      "\n",
      "df = pd.read_pickle(\"result/ncsa_all.pickle\")\n",
      "\n",
      "l = defaultdict()\n",
      "tn = 0\n",
      "tp = 0\n",
      "fp = 0\n",
      "fn = 0\n",
      "for row in df.iterrows():\n",
      "    r = row[1]\n",
      "    #print r.incident, r.user, r.accuracy, r.is_compromised\n",
      "    \n",
      "    if (r.is_compromised == True) and r.accuracy == 1:\n",
      "        tp +=1\n",
      "    if (r.is_compromised == True) and r.accuracy == 0:\n",
      "        fn += 1\n",
      "        \n",
      "    if (r.is_compromised == False) and r.accuracy == 0:\n",
      "        tn += 1\n",
      "        \n",
      "    if (r.is_compromised == False) and r.accuracy == 1:\n",
      "        fp += 1\n",
      "    \n",
      "\n",
      "all = tp + tn + fp + fn\n",
      "    \n",
      "print 100.0*tp/(tp + fn), 100.00*tn/(tn + fp), 100.00*fp/(fp + tn), 100.00*fn/(fn + tp)\n",
      "\n",
      "raise SystemExit\n",
      "print len(l)\n",
      "\n",
      "t = []\n",
      "for v in l.itervalues():\n",
      "    t.append(v)\n",
      "\n",
      "plt.clf()\n",
      "plt.hist(t, color='k')\n",
      "plt.xlabel('detect at event number')\n",
      "plt.ylabel('count')"
     ],
     "language": "python",
     "metadata": {},
     "outputs": [
      {
       "ename": "SystemExit",
       "evalue": "",
       "output_type": "pyerr",
       "traceback": [
        "An exception has occurred, use %tb to see the full traceback.\n",
        "\u001b[1;31mSystemExit\u001b[0m\n"
       ]
      },
      {
       "output_type": "stream",
       "stream": "stdout",
       "text": [
        "59.375 98.5785785786 1.42142142142 40.625\n"
       ]
      },
      {
       "output_type": "stream",
       "stream": "stderr",
       "text": [
        "To exit: use 'exit', 'quit', or Ctrl-D.\n"
       ]
      }
     ],
     "prompt_number": 14
    },
    {
     "cell_type": "code",
     "collapsed": false,
     "input": [
      "import pandas as pd\n",
      "df = pd.DataFrame(np.random.randn(100, 2))\n",
      "import seaborn as sns\n",
      "sns.plt(df[0], shade=True, cumulative=True)"
     ],
     "language": "python",
     "metadata": {},
     "outputs": [
      {
       "ename": "TypeError",
       "evalue": "'module' object is not callable",
       "output_type": "pyerr",
       "traceback": [
        "\u001b[1;31m---------------------------------------------------------------------------\u001b[0m\n\u001b[1;31mTypeError\u001b[0m                                 Traceback (most recent call last)",
        "\u001b[1;32m<ipython-input-6-ac54bbf33dc7>\u001b[0m in \u001b[0;36m<module>\u001b[1;34m()\u001b[0m\n\u001b[0;32m      2\u001b[0m \u001b[0mdf\u001b[0m \u001b[1;33m=\u001b[0m \u001b[0mpd\u001b[0m\u001b[1;33m.\u001b[0m\u001b[0mDataFrame\u001b[0m\u001b[1;33m(\u001b[0m\u001b[0mnp\u001b[0m\u001b[1;33m.\u001b[0m\u001b[0mrandom\u001b[0m\u001b[1;33m.\u001b[0m\u001b[0mrandn\u001b[0m\u001b[1;33m(\u001b[0m\u001b[1;36m100\u001b[0m\u001b[1;33m,\u001b[0m \u001b[1;36m2\u001b[0m\u001b[1;33m)\u001b[0m\u001b[1;33m)\u001b[0m\u001b[1;33m\u001b[0m\u001b[0m\n\u001b[0;32m      3\u001b[0m \u001b[1;32mimport\u001b[0m \u001b[0mseaborn\u001b[0m \u001b[1;32mas\u001b[0m \u001b[0msns\u001b[0m\u001b[1;33m\u001b[0m\u001b[0m\n\u001b[1;32m----> 4\u001b[1;33m \u001b[0msns\u001b[0m\u001b[1;33m.\u001b[0m\u001b[0mplt\u001b[0m\u001b[1;33m(\u001b[0m\u001b[0mdf\u001b[0m\u001b[1;33m[\u001b[0m\u001b[1;36m0\u001b[0m\u001b[1;33m]\u001b[0m\u001b[1;33m,\u001b[0m \u001b[0mshade\u001b[0m\u001b[1;33m=\u001b[0m\u001b[0mTrue\u001b[0m\u001b[1;33m,\u001b[0m \u001b[0mcumulative\u001b[0m\u001b[1;33m=\u001b[0m\u001b[0mTrue\u001b[0m\u001b[1;33m)\u001b[0m\u001b[1;33m\u001b[0m\u001b[0m\n\u001b[0m",
        "\u001b[1;31mTypeError\u001b[0m: 'module' object is not callable"
       ]
      }
     ],
     "prompt_number": 6
    },
    {
     "cell_type": "code",
     "collapsed": false,
     "input": [
      "import pandas as pd\n",
      "import matplotlib.pyplot as plt\n",
      "\n",
      "df = pd.read_pickle(\"result/ncsa_variation.pickle\")\n",
      "print len(df.accuracy_list[0])\n",
      "plt.clf()\n",
      "plt.hist(df.accuracy_list[0], color='k')\n",
      "plt.xlabel('detect at event number')\n",
      "plt.ylabel('count')"
     ],
     "language": "python",
     "metadata": {},
     "outputs": [
      {
       "output_type": "stream",
       "stream": "stdout",
       "text": [
        "numpy.dtype has the wrong size, try recompiling\n"
       ]
      },
      {
       "ename": "ValueError",
       "evalue": "numpy.dtype has the wrong size, try recompiling",
       "output_type": "pyerr",
       "traceback": [
        "\u001b[0;31m---------------------------------------------------------------------------\u001b[0m\n\u001b[0;31mValueError\u001b[0m                                Traceback (most recent call last)",
        "\u001b[0;32m<ipython-input-1-d79686123b10>\u001b[0m in \u001b[0;36m<module>\u001b[0;34m()\u001b[0m\n\u001b[0;32m----> 1\u001b[0;31m \u001b[0;32mimport\u001b[0m \u001b[0mpandas\u001b[0m \u001b[0;32mas\u001b[0m \u001b[0mpd\u001b[0m\u001b[0;34m\u001b[0m\u001b[0m\n\u001b[0m\u001b[1;32m      2\u001b[0m \u001b[0;32mimport\u001b[0m \u001b[0mmatplotlib\u001b[0m\u001b[0;34m.\u001b[0m\u001b[0mpyplot\u001b[0m \u001b[0;32mas\u001b[0m \u001b[0mplt\u001b[0m\u001b[0;34m\u001b[0m\u001b[0m\n\u001b[1;32m      3\u001b[0m \u001b[0;34m\u001b[0m\u001b[0m\n\u001b[1;32m      4\u001b[0m \u001b[0mdf\u001b[0m \u001b[0;34m=\u001b[0m \u001b[0mpd\u001b[0m\u001b[0;34m.\u001b[0m\u001b[0mread_pickle\u001b[0m\u001b[0;34m(\u001b[0m\u001b[0;34m\"result/ncsa_variation.pickle\"\u001b[0m\u001b[0;34m)\u001b[0m\u001b[0;34m\u001b[0m\u001b[0m\n\u001b[1;32m      5\u001b[0m \u001b[0;32mprint\u001b[0m \u001b[0mlen\u001b[0m\u001b[0;34m(\u001b[0m\u001b[0mdf\u001b[0m\u001b[0;34m.\u001b[0m\u001b[0maccuracy_list\u001b[0m\u001b[0;34m[\u001b[0m\u001b[0;36m0\u001b[0m\u001b[0;34m]\u001b[0m\u001b[0;34m)\u001b[0m\u001b[0;34m\u001b[0m\u001b[0m\n",
        "\u001b[0;32m/Library/Python/2.7/site-packages/pandas/__init__.py\u001b[0m in \u001b[0;36m<module>\u001b[0;34m()\u001b[0m\n\u001b[1;32m      4\u001b[0m \u001b[0;34m\u001b[0m\u001b[0m\n\u001b[1;32m      5\u001b[0m \u001b[0;32mtry\u001b[0m\u001b[0;34m:\u001b[0m\u001b[0;34m\u001b[0m\u001b[0m\n\u001b[0;32m----> 6\u001b[0;31m     \u001b[0;32mfrom\u001b[0m \u001b[0;34m.\u001b[0m \u001b[0;32mimport\u001b[0m \u001b[0mhashtable\u001b[0m\u001b[0;34m,\u001b[0m \u001b[0mtslib\u001b[0m\u001b[0;34m,\u001b[0m \u001b[0mlib\u001b[0m\u001b[0;34m\u001b[0m\u001b[0m\n\u001b[0m\u001b[1;32m      7\u001b[0m \u001b[0;32mexcept\u001b[0m \u001b[0mException\u001b[0m\u001b[0;34m:\u001b[0m  \u001b[0;31m# pragma: no cover\u001b[0m\u001b[0;34m\u001b[0m\u001b[0m\n\u001b[1;32m      8\u001b[0m     \u001b[0;32mimport\u001b[0m \u001b[0msys\u001b[0m\u001b[0;34m\u001b[0m\u001b[0m\n",
        "\u001b[0;32m/Users/phuong/Dropbox/w/attack_sequencing/dev/fg/numpy.pxd\u001b[0m in \u001b[0;36minit pandas.hashtable (pandas/hashtable.c:22331)\u001b[0;34m()\u001b[0m\n",
        "\u001b[0;31mValueError\u001b[0m: numpy.dtype has the wrong size, try recompiling"
       ]
      }
     ],
     "prompt_number": 1
    },
    {
     "cell_type": "code",
     "collapsed": false,
     "input": [
      "import pandas"
     ],
     "language": "python",
     "metadata": {},
     "outputs": [
      {
       "output_type": "stream",
       "stream": "stdout",
       "text": [
        "numpy.dtype has the wrong size, try recompiling\n"
       ]
      },
      {
       "ename": "ValueError",
       "evalue": "numpy.dtype has the wrong size, try recompiling",
       "output_type": "pyerr",
       "traceback": [
        "\u001b[0;31m---------------------------------------------------------------------------\u001b[0m\n\u001b[0;31mValueError\u001b[0m                                Traceback (most recent call last)",
        "\u001b[0;32m<ipython-input-2-d6ac987968b6>\u001b[0m in \u001b[0;36m<module>\u001b[0;34m()\u001b[0m\n\u001b[0;32m----> 1\u001b[0;31m \u001b[0;32mimport\u001b[0m \u001b[0mpandas\u001b[0m\u001b[0;34m\u001b[0m\u001b[0m\n\u001b[0m",
        "\u001b[0;32m/Library/Python/2.7/site-packages/pandas/__init__.py\u001b[0m in \u001b[0;36m<module>\u001b[0;34m()\u001b[0m\n\u001b[1;32m      4\u001b[0m \u001b[0;34m\u001b[0m\u001b[0m\n\u001b[1;32m      5\u001b[0m \u001b[0;32mtry\u001b[0m\u001b[0;34m:\u001b[0m\u001b[0;34m\u001b[0m\u001b[0m\n\u001b[0;32m----> 6\u001b[0;31m     \u001b[0;32mfrom\u001b[0m \u001b[0;34m.\u001b[0m \u001b[0;32mimport\u001b[0m \u001b[0mhashtable\u001b[0m\u001b[0;34m,\u001b[0m \u001b[0mtslib\u001b[0m\u001b[0;34m,\u001b[0m \u001b[0mlib\u001b[0m\u001b[0;34m\u001b[0m\u001b[0m\n\u001b[0m\u001b[1;32m      7\u001b[0m \u001b[0;32mexcept\u001b[0m \u001b[0mException\u001b[0m\u001b[0;34m:\u001b[0m  \u001b[0;31m# pragma: no cover\u001b[0m\u001b[0;34m\u001b[0m\u001b[0m\n\u001b[1;32m      8\u001b[0m     \u001b[0;32mimport\u001b[0m \u001b[0msys\u001b[0m\u001b[0;34m\u001b[0m\u001b[0m\n",
        "\u001b[0;32m/Users/phuong/Dropbox/w/attack_sequencing/dev/fg/numpy.pxd\u001b[0m in \u001b[0;36minit pandas.tslib (pandas/tslib.c:60843)\u001b[0;34m()\u001b[0m\n",
        "\u001b[0;31mValueError\u001b[0m: numpy.dtype has the wrong size, try recompiling"
       ]
      }
     ],
     "prompt_number": 2
    },
    {
     "cell_type": "code",
     "collapsed": false,
     "input": [
      "import pandas as pd\n",
      "import matplotlib.pyplot as plt\n",
      "\n",
      "df = pd.read_pickle(\"result/ncsa.pickle\")\n",
      "\n",
      "print df\n",
      "\n",
      "plt.clf()\n",
      "X = np.array([x/3600 if x >=0 and x/3600 < 32 else 32 for x in df.preemption_timeliness], dtype=float)\n",
      "plt.hist(X, cumulative=True, label='preemption', color='0')\n",
      "\n",
      "X = np.array([x/3600 if x >=0 and x/3600 < 32 else 32 for x in df.detection_timeliness], dtype=float)\n",
      "ax = plt.hist(X, cumulative=True, label='detection',  color='0.75')\n",
      "plt.xlabel('time (hr)')\n",
      "plt.ylim(15,35)\n",
      "plt.ylabel('cumulative frequency')\n",
      "plt.legend(loc='lower right')\n",
      "fig = plt.gcf()"
     ],
     "language": "python",
     "metadata": {},
     "outputs": [
      {
       "output_type": "stream",
       "stream": "stdout",
       "text": [
        "               incident event time  accuracy  attack_duration  \\\n",
        "0   20121102_2.timeline   NaN  NaN         0    186147.000000   \n",
        "1     20101029.timeline   NaN  NaN         1     10852.000000   \n",
        "2     20120509.timeline   NaN  NaN         0         0.000000   \n",
        "3     20130221.timeline   NaN  NaN         1   1893301.266564   \n",
        "4     20090819.timeline   NaN  NaN         1     50601.000000   \n",
        "5     20090819.timeline   NaN  NaN         1      5134.000000   \n",
        "6     20080907.timeline   NaN  NaN         1    258428.000000   \n",
        "7     20080907.timeline   NaN  NaN         1    120280.000000   \n",
        "8     20080907.timeline   NaN  NaN         1    244653.000000   \n",
        "9     20121128.timeline   NaN  NaN         0         0.000000   \n",
        "10    20080712.timeline   NaN  NaN         0     17995.000000   \n",
        "11    20080619.timeline   NaN  NaN         0         2.000000   \n",
        "12    20130207.timeline   NaN  NaN         0         1.974632   \n",
        "13    20121226.timeline   NaN  NaN         1         0.000000   \n",
        "14    20120702.timeline   NaN  NaN         0         0.000000   \n",
        "15    20090209.timeline   NaN  NaN         1     72710.000000   \n",
        "16    20120513.timeline   NaN  NaN         0     85815.000000   \n",
        "17    20090813.timeline   NaN  NaN         0         1.000000   \n",
        "18    20090813.timeline   NaN  NaN         0      3605.000000   \n",
        "19    20081130.timeline   NaN  NaN         0      3601.000000   \n",
        "20    20081130.timeline   NaN  NaN         1      3303.000000   \n",
        "21    20081130.timeline   NaN  NaN         0        48.000000   \n",
        "22    20081130.timeline   NaN  NaN         1         0.000000   \n",
        "23    20121206.timeline   NaN  NaN         1         0.000000   \n",
        "24    20090818.timeline   NaN  NaN         1     14479.000000   \n",
        "25    20121102.timeline   NaN  NaN         0    513451.000000   \n",
        "26    20100416.timeline   NaN  NaN         1      3601.000000   \n",
        "27    20090908.timeline   NaN  NaN         1    238466.000000   \n",
        "28    20100513.timeline   NaN  NaN         1     21913.000000   \n",
        "29  20130207-2.timeline   NaN  NaN         0         0.000000   \n",
        "30    20120830.timeline   NaN  NaN         0         0.000000   \n",
        "31    20121004.timeline   NaN  NaN         0      3600.000000   \n",
        "\n",
        "    detection_timeliness  labeling_time  num_event  preemption_timeliness  \\\n",
        "0                     -1       0.058430          2               0.000000   \n",
        "1                  10852       0.161247          7               0.000000   \n",
        "2                     -1       0.037730          1               0.000000   \n",
        "3                      0       0.078566          3         1893301.266564   \n",
        "4                  26057       0.158852          7           24544.000000   \n",
        "5                      0       0.098183          4            5134.000000   \n",
        "6                 140692       1.174824         57          117736.000000   \n",
        "7                  37765       0.305417         14           82515.000000   \n",
        "8                 139053       0.891644         43          105600.000000   \n",
        "9                     -1       0.038104          1               0.000000   \n",
        "10                    -1       0.158599          7               0.000000   \n",
        "11                    -1       0.058407          2               0.000000   \n",
        "12                    -1       0.058232          2               0.000000   \n",
        "13                     0       0.037967          1               0.000000   \n",
        "14                    -1       0.037976          1               0.000000   \n",
        "15                     0       0.202639          9           72710.000000   \n",
        "16                    -1       0.058010          2               0.000000   \n",
        "17                    -1       0.062253          2               0.000000   \n",
        "18                    -1       0.182535          8               0.000000   \n",
        "19                    -1       0.099831          4               0.000000   \n",
        "20                     0       0.059507          2            3303.000000   \n",
        "21                    -1       0.080063          3               0.000000   \n",
        "22                     0       0.038776          1               0.000000   \n",
        "23                     0       0.038678          1               0.000000   \n",
        "24                 14479       0.101964          4               0.000000   \n",
        "25                    -1       0.138394          6               0.000000   \n",
        "26                    61       0.139480          6            3540.000000   \n",
        "27                213964       0.224346         10           24502.000000   \n",
        "28                 10897       0.224575         10           11016.000000   \n",
        "29                    -1       0.038039          1               0.000000   \n",
        "30                    -1       0.037783          1               0.000000   \n",
        "31                    -1       0.057855          2               0.000000   \n",
        "\n",
        "                       user  \n",
        "0           10.10.242.230  \n",
        "1                   bkzierv  \n",
        "2           10.10.222.232  \n",
        "3                  cristina  \n",
        "4                   kmilner  \n",
        "5                    tera3d  \n",
        "6                     nurmi  \n",
        "7                    drlead  \n",
        "8                   amorris  \n",
        "9            10.10.249.76  \n",
        "10                   smisra  \n",
        "11                   smisra  \n",
        "12  prothwin7.ncsa.uiuc.edu  \n",
        "13          10.10.225.131  \n",
        "14           10.10.249.13  \n",
        "15                  wolfson  \n",
        "16          10.10.226.222  \n",
        "17                     boxu  \n",
        "18                  wolfson  \n",
        "19                   cdetar  \n",
        "20                 fpierfed  \n",
        "21                    daues  \n",
        "22                  rplante  \n",
        "23           10.10.249.13  \n",
        "24                 mklocek2  \n",
        "25          10.10.227.100  \n",
        "26                   ancher  \n",
        "27                 pakshing  \n",
        "28                 amritkar  \n",
        "29           10.10.220.52  \n",
        "30           10.10.249.76  \n",
        "31          10.10.225.189  \n",
        "\n",
        "[32 rows x 10 columns]\n"
       ]
      },
      {
       "metadata": {},
       "output_type": "display_data",
       "png": "[encoded data removed]",
       "text": [
        "<matplotlib.figure.Figure at 0x3d64210>"
       ]
      }
     ],
     "prompt_number": 4
    },
    {
     "cell_type": "code",
     "collapsed": false,
     "input": [
      "print 1 if 1<2 else 2"
     ],
     "language": "python",
     "metadata": {},
     "outputs": [
      {
       "output_type": "stream",
       "stream": "stdout",
       "text": [
        "1\n"
       ]
      }
     ],
     "prompt_number": 64
    },
    {
     "cell_type": "code",
     "collapsed": false,
     "input": [
      "f = open('/tmp/rawResult2/metric2-attack-7154.txt')\n",
      "count = 0\n",
      "for line in f:\n",
      "    line = line.strip()\n",
      "    if line.startswith('increase load demand'): \n",
      "        e = 'increase_load_demand'\n",
      "    if line.startswith('increase generator'):\n",
      "        e = 'increase_generator'\n",
      "    if line.startswith('open line'):\n",
      "        e = 'open_line'\n",
      "    i = line.find('overloaded with real power')\n",
      "    if (i != -1):\n",
      "        s = line[i:len(line)]\n",
      "        e = 'overloaded'\n",
      "        param = s.translate(None, 'overloaded with real power MW')\n",
      "    print \"{}, {}, {}\".format(count, 'user', e)\n",
      "    count += 1\n",
      "e = 'overloaded_over_limit'    \n",
      "print \"{}, {}, {}\".format(count, 'user', e)"
     ],
     "language": "python",
     "metadata": {},
     "outputs": [
      {
       "output_type": "stream",
       "stream": "stdout",
       "text": [
        "0, user, increase_load_demand\n",
        "1, user, increase_load_demand\n",
        "2, user, increase_load_demand\n",
        "3, user, increase_load_demand\n",
        "4, user, increase_load_demand\n",
        "5, user, increase_load_demand\n",
        "6, user, increase_load_demand\n",
        "7, user, increase_load_demand\n",
        "8, user, increase_load_demand\n",
        "9, user, increase_load_demand\n",
        "10, user, increase_load_demand\n",
        "11, user, increase_load_demand\n",
        "12, user, increase_load_demand\n",
        "13, user, increase_load_demand\n",
        "14, user, increase_load_demand\n",
        "15, user, increase_load_demand\n",
        "16, user, increase_load_demand\n",
        "17, user, increase_load_demand\n",
        "18, user, increase_load_demand\n",
        "19, user, increase_load_demand\n",
        "20, user, increase_generator\n",
        "21, user, increase_generator\n",
        "22, user, increase_generator\n",
        "23, user, increase_generator\n",
        "24, user, increase_generator\n",
        "25, user, open_line\n",
        "26, user, open_line\n",
        "27, user, open_line\n",
        "28, user, overloaded\n",
        "29, user, overloaded\n",
        "30, user, overloaded\n",
        "31, user, overloaded\n",
        "32, user, overloaded_over_limit\n"
       ]
      }
     ],
     "prompt_number": 35
    },
    {
     "cell_type": "code",
     "collapsed": false,
     "input": [
      "import numpy as np\n",
      "np.arange(0,100,10)"
     ],
     "language": "python",
     "metadata": {},
     "outputs": [
      {
       "metadata": {},
       "output_type": "pyout",
       "prompt_number": 131,
       "text": [
        "array([ 0, 10, 20, 30, 40, 50, 60, 70, 80, 90])"
       ]
      }
     ],
     "prompt_number": 131
    },
    {
     "cell_type": "code",
     "collapsed": false,
     "input": [
      "import numpy as np\n",
      "import matplotlib.pyplot as plt\n",
      "\n",
      "timeline = [\n",
      "     [[0, 0], [2, 0], [3, 1], [4, 2]],\n",
      "          [[2, 0], [3, 0], [4, 0], [5, 1]],\n",
      "               [[0, 1], [2, 1], [3, 2], [4, 2]],\n",
      "                    [[1, 0], [2, 0], [3, 0], [4, 0]],\n",
      "                                        [[1, 0], [2, 0], [3, 1], [5, 2], [10,2]]\n",
      "    ]\n",
      "color_map = {0: 'g', 1: 'y', 2:'r'}\n",
      "\n",
      "\n",
      "fig, ax = plt.subplots()\n",
      "\n",
      "count = 1\n",
      "max_x = -1\n",
      "for user in timeline:\n",
      "    for i in range(0,len(user)-1):\n",
      "        xmin = user[i][0]\n",
      "        xmax = user[i+1][0]\n",
      "        col = color_map[user[i][1]]\n",
      "        plt.plot(xmin, count, col + 'x', markersize=10)\n",
      "        plt.hlines(y=count, xmin=xmin, xmax=xmax, linewidth=4, color=col)\n",
      "    col = color_map[user[i+1][1]]\n",
      "    if xmax > max_x:\n",
      "        max_x = xmax\n",
      "    plt.plot(xmax, count, col + 'x', markersize=10)\n",
      "    count += 1\n",
      "        \n",
      "ax.set_yticks(np.arange(0, len(timeline) +2, 1), minor=False)\n",
      "ax.set_xticks(np.arange(0, max_x +2 , 1), minor=False)\n",
      "plt.axis([-1,max_x + 1,-1,len(timeline) + 2])"
     ],
     "language": "python",
     "metadata": {},
     "outputs": [
      {
       "metadata": {},
       "output_type": "pyout",
       "prompt_number": 77,
       "text": [
        "[-1, 11, -1, 7]"
       ]
      },
      {
       "metadata": {},
       "output_type": "display_data",
       "png": "[encoded data removed]",
       "text": [
        "<matplotlib.figure.Figure at 0x4b31b90>"
       ]
      }
     ],
     "prompt_number": 77
    },
    {
     "cell_type": "code",
     "collapsed": false,
     "input": [
      "import numpy as np\n",
      "from pylab import *\n",
      "from matplotlib import rc\n",
      "\n",
      "X = np.array([10, 20, 30, 40], dtype=float)\n",
      "#rc('font',**{'family':'sans-serif','sans-serif':['Helvetica']})\n",
      "## for Palatino and other serif fonts use:\n",
      "#rc('font',**{'family':'serif','serif':['Palatino']})\n",
      "rc('text', usetex=True)\n",
      "\n",
      "# Compute the CDF\n",
      "CY = np.cumsum(X)\n",
      "CY /= CY.sum()\n",
      "\n",
      "print X, CY\n",
      "# Plot both\n",
      "plot(X,CY,'r--')\n",
      "ylabel(r'\\textit{voltage} (mV)',fontsize=16)\n",
      "title(r\"\\TeX\\ is Number \"\n",
      "          r\"$\\displaystyle\\sum_{n=1}^\\infty\\frac{-e^{i\\pi}}{2^n}$!\",\n",
      "          fontsize=16, color='gray')\n",
      "\n",
      "show()"
     ],
     "language": "python",
     "metadata": {},
     "outputs": [
      {
       "output_type": "stream",
       "stream": "stdout",
       "text": [
        "[ 10.  20.  30.  40.] [ 0.05  0.15  0.3   0.5 ]\n"
       ]
      },
      {
       "metadata": {},
       "output_type": "display_data",
       "png": "[encoded data removed]",
       "text": [
        "<matplotlib.figure.Figure at 0x4413b50>"
       ]
      }
     ],
     "prompt_number": 21
    },
    {
     "cell_type": "code",
     "collapsed": false,
     "input": [],
     "language": "python",
     "metadata": {},
     "outputs": []
    },
    {
     "cell_type": "code",
     "collapsed": false,
     "input": [
      "import numpy as np\n",
      "import matplotlib.pyplot as plt\n",
      "\n",
      "from matplotlib import rc\n",
      "rc('font',**{'family':'sans-serif','sans-serif':['Helvetica']})\n",
      "## for Palatino and other serif fonts use:\n",
      "#rc('font',**{'family':'serif','serif':['Palatino']})\n",
      "rc('text', usetex=True)\n",
      "\n",
      "# Example data\n",
      "t = np.arange(0.0, 1.0 + 0.01, 0.01)\n",
      "s = np.cos(4 * np.pi * t) + 2\n",
      "\n",
      "plt.rc('text', usetex=True)\n",
      "plt.rc('font', family='serif')\n",
      "plt.plot(t, s)\n",
      "\n",
      "plt.xlabel(r'\\textbf{time} (s)')\n",
      "plt.ylabel(r'\\textit{voltage} (mV)',fontsize=16)\n",
      "plt.title(r\"\\TeX\\ is Number \"\n",
      "          r\"$\\displaystyle\\sum_{n=1}^\\infty\\frac{-e^{i\\pi}}{2^n}$!\",\n",
      "          fontsize=16, color='gray')\n",
      "# Make room for the ridiculously large title.\n",
      "plt.subplots_adjust(top=0.8)\n",
      "\n",
      "plt.show()"
     ],
     "language": "python",
     "metadata": {},
     "outputs": [
      {
       "metadata": {},
       "output_type": "display_data",
       "png": "[encoded data removed]",
       "text": [
        "<matplotlib.figure.Figure at 0x2b258d0>"
       ]
      }
     ],
     "prompt_number": 11
    },
    {
     "cell_type": "code",
     "collapsed": false,
     "input": [
      "x = [1,2,3]\n",
      "y = [1,4,9]\n",
      "import matplotlib.pyplot as plt\n",
      "fig = plt.figure()\n",
      "subplot1 = fig.add_subplot(121)\n",
      "subplot1.plot(x,y)\n",
      "subplot2 = fig.add_subplot(122)\n",
      "subplot2.plot(y,x)\n",
      "fig.tight_layout()\n",
      "plt.show()\n"
     ],
     "language": "python",
     "metadata": {},
     "outputs": [
      {
       "metadata": {},
       "output_type": "display_data",
       "png": "[encoded data removed]",
       "text": [
        "<matplotlib.figure.Figure at 0x3545490>"
       ]
      }
     ],
     "prompt_number": 2
    },
    {
     "cell_type": "code",
     "collapsed": false,
     "input": [],
     "language": "python",
     "metadata": {},
     "outputs": []
    },
    {
     "cell_type": "code",
     "collapsed": false,
     "input": [
      "#!/usr/bin/env python\n",
      "import numpy as np\n",
      "import pylab as P\n",
      "\n",
      "#\n",
      "# The hist() function now has a lot more options\n",
      "#\n",
      "\n",
      "#\n",
      "# first create a single histogram\n",
      "#\n",
      "mu, sigma = 200, 25\n",
      "\n",
      "# create a new data-set\n",
      "x = mu + sigma*P.randn(1000,3)\n",
      "\n",
      "print x\n",
      "x = [[1,1,1], # detection\n",
      "     [0,2,4,4], # not detected\n",
      "     ]\n",
      "\n",
      "P.figure()\n",
      "\n",
      "n, bins, patches = P.hist(x, histtype='bar', stacked=True)\n",
      "\n",
      "P.show()\n"
     ],
     "language": "python",
     "metadata": {},
     "outputs": [
      {
       "output_type": "stream",
       "stream": "stdout",
       "text": [
        "[[ 173.65813205  150.3721927   213.10028379]\n",
        " [ 176.38896632  181.62521277  216.99186314]\n",
        " [ 219.95627376  198.14535126  209.4690731 ]\n",
        " ..., \n",
        " [ 170.24490791  228.23620201  190.8224514 ]\n",
        " [ 214.21347578  186.07762702  190.85010151]\n",
        " [ 221.01230979  161.95609345  217.9940863 ]]\n"
       ]
      },
      {
       "metadata": {},
       "output_type": "display_data",
       "png": "[encoded data removed]",
       "text": [
        "<matplotlib.figure.Figure at 0xbb78610>"
       ]
      }
     ],
     "prompt_number": 131
    },
    {
     "cell_type": "code",
     "collapsed": false,
     "input": [
      "import matplotlib.pyplot as plt\n",
      "from pandas import DataFrame\n",
      "\n",
      "l = [[1,0],\n",
      "     [1,1],\n",
      "     [1,0],\n",
      "     [3,0],\n",
      "     [0,1],\n",
      "     [1,0],\n",
      "     [1,1],\n",
      "     [0,1]\n",
      "     ]*4\n",
      "my_colors = 'gw'  #red, green, blue, black, etc.\n",
      "\n",
      "df2 = DataFrame(l, columns=['detected', 'not detected'])\n",
      "result = df2.plot(kind='bar', stacked=True)\n",
      "for container in result.containers:\n",
      "    print container.get_label()\n",
      "    if container.get_label() == 'detected':\n",
      "        plt.setp(container, hatch='xxx')\n",
      "    else:\n",
      "        plt.setp(container, hatch='ooo')\n",
      "        \n",
      "result.legend()"
     ],
     "language": "python",
     "metadata": {},
     "outputs": [
      {
       "output_type": "stream",
       "stream": "stdout",
       "text": [
        "detected\n",
        "not detected\n"
       ]
      },
      {
       "metadata": {},
       "output_type": "pyout",
       "prompt_number": 165,
       "text": [
        "<matplotlib.legend.Legend at 0xe92a110>"
       ]
      },
      {
       "metadata": {},
       "output_type": "display_data",
       "png": "[encoded data removed]",
       "text": [
        "<matplotlib.figure.Figure at 0xeaab590>"
       ]
      }
     ],
     "prompt_number": 165
    },
    {
     "cell_type": "code",
     "collapsed": false,
     "input": [
      "import matplotlib.pyplot as plt\n",
      "from pandas import DataFrame\n",
      "\n",
      "X = [[1,0],\n",
      "     [1,1],\n",
      "     [1,0],\n",
      "     ]\n",
      "\n",
      "df2 = DataFrame(X, index=['benign', 'suspicious', 'malicious'], columns=['correct', 'incorrect'])\n",
      "t = df2.plot(kind='bar', stacked=True)\n",
      "for container in t.containers:\n",
      "    print container.get_label()\n",
      "    if container.get_label() == 'correct':\n",
      "        plt.setp(container, hatch='//')"
     ],
     "language": "python",
     "metadata": {},
     "outputs": [
      {
       "output_type": "stream",
       "stream": "stdout",
       "text": [
        "numpy.dtype has the wrong size, try recompiling\n"
       ]
      },
      {
       "ename": "ValueError",
       "evalue": "numpy.dtype has the wrong size, try recompiling",
       "output_type": "pyerr",
       "traceback": [
        "\u001b[0;31m---------------------------------------------------------------------------\u001b[0m\n\u001b[0;31mValueError\u001b[0m                                Traceback (most recent call last)",
        "\u001b[0;32m<ipython-input-1-5182b1c3298b>\u001b[0m in \u001b[0;36m<module>\u001b[0;34m()\u001b[0m\n\u001b[1;32m      1\u001b[0m \u001b[0;32mimport\u001b[0m \u001b[0mmatplotlib\u001b[0m\u001b[0;34m.\u001b[0m\u001b[0mpyplot\u001b[0m \u001b[0;32mas\u001b[0m \u001b[0mplt\u001b[0m\u001b[0;34m\u001b[0m\u001b[0m\n\u001b[0;32m----> 2\u001b[0;31m \u001b[0;32mfrom\u001b[0m \u001b[0mpandas\u001b[0m \u001b[0;32mimport\u001b[0m \u001b[0mDataFrame\u001b[0m\u001b[0;34m\u001b[0m\u001b[0m\n\u001b[0m\u001b[1;32m      3\u001b[0m \u001b[0;34m\u001b[0m\u001b[0m\n\u001b[1;32m      4\u001b[0m X = [[1,0],\n\u001b[1;32m      5\u001b[0m      \u001b[0;34m[\u001b[0m\u001b[0;36m1\u001b[0m\u001b[0;34m,\u001b[0m\u001b[0;36m1\u001b[0m\u001b[0;34m]\u001b[0m\u001b[0;34m,\u001b[0m\u001b[0;34m\u001b[0m\u001b[0m\n",
        "\u001b[0;32m/Library/Python/2.7/site-packages/pandas/__init__.py\u001b[0m in \u001b[0;36m<module>\u001b[0;34m()\u001b[0m\n\u001b[1;32m      4\u001b[0m \u001b[0;34m\u001b[0m\u001b[0m\n\u001b[1;32m      5\u001b[0m \u001b[0;32mtry\u001b[0m\u001b[0;34m:\u001b[0m\u001b[0;34m\u001b[0m\u001b[0m\n\u001b[0;32m----> 6\u001b[0;31m     \u001b[0;32mfrom\u001b[0m \u001b[0;34m.\u001b[0m \u001b[0;32mimport\u001b[0m \u001b[0mhashtable\u001b[0m\u001b[0;34m,\u001b[0m \u001b[0mtslib\u001b[0m\u001b[0;34m,\u001b[0m \u001b[0mlib\u001b[0m\u001b[0;34m\u001b[0m\u001b[0m\n\u001b[0m\u001b[1;32m      7\u001b[0m \u001b[0;32mexcept\u001b[0m \u001b[0mException\u001b[0m\u001b[0;34m:\u001b[0m  \u001b[0;31m# pragma: no cover\u001b[0m\u001b[0;34m\u001b[0m\u001b[0m\n\u001b[1;32m      8\u001b[0m     \u001b[0;32mimport\u001b[0m \u001b[0msys\u001b[0m\u001b[0;34m\u001b[0m\u001b[0m\n",
        "\u001b[0;32m/Users/phuong/Dropbox/w/attack_sequencing/dev/fg/numpy.pxd\u001b[0m in \u001b[0;36minit pandas.hashtable (pandas/hashtable.c:22331)\u001b[0;34m()\u001b[0m\n",
        "\u001b[0;31mValueError\u001b[0m: numpy.dtype has the wrong size, try recompiling"
       ]
      }
     ],
     "prompt_number": 1
    },
    {
     "cell_type": "code",
     "collapsed": false,
     "input": [
      "import numpy as np\n",
      "import matplotlib.pyplot as plt\n",
      "\n",
      "conf_arr = [[33,2,0,], \n",
      "            [3,31,0], \n",
      "            [0,4,41,] \n",
      "      ]\n",
      "\n",
      "norm_conf = []\n",
      "for i in conf_arr:\n",
      "    a = 0\n",
      "    tmp_arr = []\n",
      "    a = sum(i, 0)\n",
      "    for j in i:\n",
      "        tmp_arr.append(float(j)/float(a))\n",
      "    norm_conf.append(tmp_arr)\n",
      "\n",
      "fig = plt.figure()\n",
      "plt.clf()\n",
      "ax = fig.add_subplot(111)\n",
      "ax.set_aspect('auto')\n",
      "res = ax.imshow(np.array(norm_conf), cmap=plt.cm.jet_r, \n",
      "                interpolation='nearest')\n",
      "\n",
      "width = len(conf_arr)\n",
      "height = len(conf_arr[0])\n",
      "\n",
      "for x in xrange(width):\n",
      "    for y in xrange(height):\n",
      "        ax.annotate(str(conf_arr[x][y]), xy=(y, x), \n",
      "                    horizontalalignment='center',\n",
      "                    verticalalignment='center', color='white', size=18)\n",
      "for ax in fig.axes:\n",
      "    ax.grid(False)\n",
      "cb = fig.colorbar(res)\n",
      "alphabet = ['benign', 'suspicious', 'malicious']\n",
      "plt.xticks(range(width), alphabet[:width])\n",
      "plt.yticks(range(height), alphabet[:height])\n",
      "fig = plt.gcf()\n",
      "fig.savefig(\"/home/phuong/Dropbox/w/attack_sequencing/paper/figs/test.pdf\")\n",
      "\n",
      "\n",
      "import matplotlib as mpl\n",
      "print mpl.rcParams"
     ],
     "language": "python",
     "metadata": {},
     "outputs": [
      {
       "output_type": "stream",
       "stream": "stdout",
       "text": [
        "agg.path.chunksize: 0\n",
        "animation.avconv_args: \n",
        "animation.avconv_path: avconv\n",
        "animation.bitrate: -1\n",
        "animation.codec: mpeg4\n",
        "animation.convert_args: \n",
        "animation.convert_path: convert\n",
        "animation.ffmpeg_args: \n",
        "animation.ffmpeg_path: ffmpeg\n",
        "animation.frame_format: png\n",
        "animation.mencoder_args: \n",
        "animation.mencoder_path: mencoder\n",
        "animation.writer: ffmpeg\n",
        "axes.axisbelow: True\n",
        "axes.color_cycle: ['#348ABD', '#7A68A6', '#A60628', '#467821', '#CF4457', '#188487', '#E24A33', '#348ABD', '#7A68A6']\n",
        "axes.edgecolor: #bcbcbc\n",
        "axes.facecolor: #eeeeee\n",
        "axes.formatter.limits: [-7, 7]\n",
        "axes.formatter.use_locale: False\n",
        "axes.formatter.use_mathtext: False\n",
        "axes.grid: True\n",
        "axes.hold: True\n",
        "axes.labelcolor: #555555\n",
        "axes.labelsize: large\n",
        "axes.labelweight: normal\n",
        "axes.linewidth: 1.0\n",
        "axes.titlesize: x-large\n",
        "axes.unicode_minus: True\n",
        "axes.xmargin: 0\n",
        "axes.ymargin: 0\n",
        "axes3d.grid: True\n",
        "backend: module://IPython.kernel.zmq.pylab.backend_inline\n",
        "backend.qt4: PyQt4\n",
        "backend_fallback: True\n",
        "contour.negative_linestyle: dashed\n",
        "datapath: /usr/local/lib/python2.7/dist-packages/matplotlib/mpl-data\n",
        "docstring.hardcopy: False\n",
        "examples.directory: \n",
        "figure.autolayout: False\n",
        "figure.dpi: 96.0\n",
        "figure.edgecolor: white\n",
        "figure.facecolor: white\n",
        "figure.figsize: (6.0, 4.0)\n",
        "figure.frameon: True\n",
        "figure.max_open_warning: 20\n",
        "figure.subplot.bottom: 0.125\n",
        "figure.subplot.hspace: 0.5\n",
        "figure.subplot.left: 0.125\n",
        "figure.subplot.right: 0.9\n",
        "figure.subplot.top: 0.9\n",
        "figure.subplot.wspace: 0.2\n",
        "font.cursive: ['Apple Chancery', 'Textile', 'Zapf Chancery', 'Sand', 'cursive']\n",
        "font.family: ['monospace']\n",
        "font.fantasy: ['Comic Sans MS', 'Chicago', 'Charcoal', 'Impact', 'Western', 'fantasy']\n",
        "font.monospace: ['Source Code Pro', 'Andale Mono', 'Nimbus Mono L', 'Courier New', 'Courier', 'Fixed', 'Terminal', 'monospace']\n",
        "font.sans-serif: ['Helvetica Neue', 'Bitstream Vera Sans', 'Lucida Grande', 'Verdana', 'Geneva', 'Lucid', 'Arial', 'Helvetica', 'Avant Garde', 'sans-serif']\n",
        "font.serif: ['Bitstream Vera Serif', 'New Century Schoolbook', 'Century Schoolbook L', 'Utopia', 'ITC Bookman', 'Bookman', 'Nimbus Roman No9 L', 'Times New Roman', 'Times', 'Palatino', 'Charter', 'serif']\n",
        "font.size: 10\n",
        "font.stretch: normal\n",
        "font.style: normal\n",
        "font.variant: normal\n",
        "font.weight: normal\n",
        "grid.alpha: 1.0\n",
        "grid.color: k\n",
        "grid.linestyle: :\n",
        "grid.linewidth: 0.5\n",
        "image.aspect: equal\n",
        "image.cmap: jet\n",
        "image.interpolation: bilinear\n",
        "image.lut: 256\n",
        "image.origin: upper\n",
        "image.resample: False\n",
        "interactive: True\n",
        "keymap.all_axes: ['a']\n",
        "keymap.back: ['left', 'c', 'backspace']\n",
        "keymap.forward: ['right', 'v']\n",
        "keymap.fullscreen: ['f']\n",
        "keymap.grid: ['g']\n",
        "keymap.home: ['h', 'r', 'home']\n",
        "keymap.pan: ['p']\n",
        "keymap.quit: ('ctrl+w', 'cmd+w')\n",
        "keymap.save: ['s']\n",
        "keymap.xscale: ['L', 'k']\n",
        "keymap.yscale: ['l']\n",
        "keymap.zoom: ['o']\n",
        "legend.borderaxespad: 0.5\n",
        "legend.borderpad: 0.4\n",
        "legend.columnspacing: 2.0\n",
        "legend.fancybox: True\n",
        "legend.fontsize: large\n",
        "legend.frameon: True\n",
        "legend.handleheight: 0.7\n",
        "legend.handlelength: 2.0\n",
        "legend.handletextpad: 0.8\n",
        "legend.isaxes: True\n",
        "legend.labelspacing: 0.5\n",
        "legend.loc: upper right\n",
        "legend.markerscale: 1.0\n",
        "legend.numpoints: 2\n",
        "legend.scatterpoints: 3\n",
        "legend.shadow: False\n",
        "lines.antialiased: True\n",
        "lines.color: b\n",
        "lines.dash_capstyle: butt\n",
        "lines.dash_joinstyle: round\n",
        "lines.linestyle: -\n",
        "lines.linewidth: 1.0\n",
        "lines.marker: None\n",
        "lines.markeredgewidth: 0.5\n",
        "lines.markersize: 6\n",
        "lines.solid_capstyle: projecting\n",
        "lines.solid_joinstyle: round\n",
        "mathtext.bf: serif:bold\n",
        "mathtext.cal: cursive\n",
        "mathtext.default: it\n",
        "mathtext.fallback_to_cm: True\n",
        "mathtext.fontset: cm\n",
        "mathtext.it: serif:italic\n",
        "mathtext.rm: serif\n",
        "mathtext.sf: sans\\-serif\n",
        "mathtext.tt: monospace\n",
        "patch.antialiased: True\n",
        "patch.edgecolor: #eeeeee\n",
        "patch.facecolor: #348ABD\n",
        "patch.linewidth: 0.5\n",
        "path.effects: []\n",
        "path.simplify: True\n",
        "path.simplify_threshold: 0.111111111111\n",
        "path.sketch: None\n",
        "path.snap: True\n",
        "pdf.compression: 6\n",
        "pdf.fonttype: 3\n",
        "pdf.inheritcolor: False\n",
        "pdf.use14corefonts: False\n",
        "pgf.debug: False\n",
        "pgf.preamble: ['']\n",
        "pgf.rcfonts: True\n",
        "pgf.texsystem: xelatex\n",
        "plugins.directory: .matplotlib_plugins\n",
        "polaraxes.grid: True\n",
        "ps.distiller.res: 6000\n",
        "ps.fonttype: 3\n",
        "ps.papersize: letter\n",
        "ps.useafm: False\n",
        "ps.usedistiller: False\n",
        "savefig.bbox: None\n",
        "savefig.directory: ~\n",
        "savefig.dpi: 72\n",
        "savefig.edgecolor: w\n",
        "savefig.extension: png\n",
        "savefig.facecolor: w\n",
        "savefig.format: png\n",
        "savefig.frameon: True\n",
        "savefig.jpeg_quality: 95\n",
        "savefig.orientation: portrait\n",
        "savefig.pad_inches: 0.1\n",
        "svg.embed_char_paths: True\n",
        "svg.fonttype: path\n",
        "svg.image_inline: True\n",
        "svg.image_noscale: False\n",
        "text.antialiased: True\n",
        "text.color: k\n",
        "text.dvipnghack: None\n",
        "text.hinting: True\n",
        "text.hinting_factor: 8\n",
        "text.latex.preamble: ['']\n",
        "text.latex.preview: False\n",
        "text.latex.unicode: False\n",
        "text.usetex: True\n",
        "timezone: UTC\n",
        "tk.pythoninspect: False\n",
        "tk.window_focus: False\n",
        "toolbar: toolbar2\n",
        "verbose.fileo: sys.stdout\n",
        "verbose.level: silent\n",
        "webagg.open_in_browser: True\n",
        "webagg.port: 8988\n",
        "webagg.port_retries: 50\n",
        "xtick.color: #555555\n",
        "xtick.direction: in\n",
        "xtick.labelsize: medium\n",
        "xtick.major.pad: 6.0\n",
        "xtick.major.size: 0.0\n",
        "xtick.major.width: 0.5\n",
        "xtick.minor.pad: 6.0\n",
        "xtick.minor.size: 0.0\n",
        "xtick.minor.width: 0.5\n",
        "ytick.color: #555555\n",
        "ytick.direction: in\n",
        "ytick.labelsize: medium\n",
        "ytick.major.pad: 6.0\n",
        "ytick.major.size: 0.0\n",
        "ytick.major.width: 0.5\n",
        "ytick.minor.pad: 6.0\n",
        "ytick.minor.size: 0.0\n",
        "ytick.minor.width: 0.5\n"
       ]
      },
      {
       "metadata": {},
       "output_type": "display_data",
       "png": "[encoded data removed]",
       "text": [
        "<matplotlib.figure.Figure at 0x5feed50>"
       ]
      }
     ],
     "prompt_number": 127
    },
    {
     "cell_type": "code",
     "collapsed": false,
     "input": [
      "from numpy import *\n",
      "import matplotlib.pyplot as plt\n",
      "from pylab import *\n",
      "\n",
      "conf_arr = [[33,2,0], \n",
      "            [3,31,0], \n",
      "            [0,4,41] \n",
      "            ]\n",
      "\n",
      "norm_conf = []\n",
      "for i in conf_arr:\n",
      "        a = 0\n",
      "        tmp_arr = []\n",
      "        a = sum(i,0)\n",
      "        for j in i:\n",
      "                tmp_arr.append(float(j)/float(a))\n",
      "        norm_conf.append(tmp_arr)\n",
      "\n",
      "plt.clf()\n",
      "fig = plt.figure()\n",
      "ax = fig.add_subplot(111)\n",
      "[ax.grid(False) for ax in fig.axes]\n",
      "res = ax.imshow(array(norm_conf), cmap=cm.jet, interpolation='nearest')\n",
      "for i, cas in enumerate(conf_arr):\n",
      "    for j, c in enumerate(cas):\n",
      "        if c>0:\n",
      "            plt.text(j, i, c, horizontalalignment='center', verticalalignment='center',fontsize=18, color='white')\n",
      "cb = fig.colorbar(res)"
     ],
     "language": "python",
     "metadata": {},
     "outputs": [
      {
       "metadata": {},
       "output_type": "display_data",
       "text": [
        "<matplotlib.figure.Figure at 0x4c0e290>"
       ]
      },
      {
       "metadata": {},
       "output_type": "display_data",
       "png": "[encoded data removed]",
       "text": [
        "<matplotlib.figure.Figure at 0x4b8a550>"
       ]
      }
     ],
     "prompt_number": 20
    }
   ],
   "metadata": {}
  }
 ]
}